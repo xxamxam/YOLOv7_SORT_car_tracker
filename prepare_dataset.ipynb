{
 "cells": [
  {
   "cell_type": "markdown",
   "id": "clean-preparation",
   "metadata": {},
   "source": [
    "### COCO dataset cars\n",
    "\n",
    "воспользуйтесь инструкцией с сайта https://cocodataset.org/#home\n"
   ]
  },
  {
   "cell_type": "code",
   "execution_count": 1,
   "id": "6daeb6a6",
   "metadata": {},
   "outputs": [],
   "source": [
    "# чтобы скачать часть coco dataset нужно установить библиотеку\n",
    "%pip install pycocotools"
   ]
  },
  {
   "cell_type": "code",
   "execution_count": null,
   "id": "facial-slave",
   "metadata": {},
   "outputs": [
    {
     "name": "stdout",
     "output_type": "stream",
     "text": [
      "новые метки классов:\n",
      " {'car': 0, 'motorcycle': 1, 'bus': 2, 'train': 3, 'truck': 4}\n"
     ]
    }
   ],
   "source": [
    "#loading pictures and make boxes\n",
    "#запускать только если нужно загрузить датасет\n",
    "from pycocotools.coco import COCO\n",
    "import requests\n",
    "from glob import glob\n",
    "\n",
    "def load(images, num = 0):\n",
    "    i = num\n",
    "    try:\n",
    "        for img in images[num:]:\n",
    "            i+=1\n",
    "            if i%100 == 0:\n",
    "                print(i)\n",
    "            data = requests.get(img['coco_url']).content\n",
    "            with open(\"images/\" + img['file_name'], \"wb\") as f:\n",
    "                f.write(data)\n",
    "\n",
    "            with open(\"labels/\" + img['file_name'].split(\".\")[0] + \".txt\", \"w\") as f:\n",
    "                f.write(\"\")\n",
    "    except:\n",
    "        load(images, i)\n",
    "    \n",
    "def make_boxes(annotations, images, class_num):\n",
    "    f_names = [name.split(\"/\")[-1] for name in glob(\"images/COCO*\")]\n",
    "    for ann in annotations:\n",
    "        bbox = ann[\"bbox\"]\n",
    "        img_info = coco.loadImgs(ann[\"image_id\"])\n",
    "        category_id = ann[\"category_id\"]\n",
    "        if(len(img_info) > 1):\n",
    "            print(\"ERROR\")\n",
    "            sys.exit()\n",
    "        if(img_info[0][\"file_name\"] not in f_names):\n",
    "            continue\n",
    "        \n",
    "        filename = img_info[0][\"file_name\"].split(\".\")[0] + \".txt\"\n",
    "        \n",
    "        width = float(img_info[0][\"width\"])\n",
    "        height = float(img_info[0]['height'])\n",
    "        xmin = bbox[0]\n",
    "        ymin = bbox[1]\n",
    "        xmax = min(xmin + bbox[2], width)\n",
    "        ymax = min(ymin + bbox[3], height)\n",
    "\n",
    "        x = (xmax + xmin)/(2*width)\n",
    "        y = (ymax + ymin)/(2*height)\n",
    "        w = (xmax - xmin)/width\n",
    "        h = (ymax - ymin)/height\n",
    "\n",
    "        with open(\"labels/\" + filename, \"a\") as f:\n",
    "            f.write(f\"{class_num[category_id]} {x} {y} {w} {h}\\n\")\n",
    "            \n",
    "            \n",
    "# coco = COCO(\"путь до COCO/annotations/instances_train2014.json\")\n",
    "\n",
    "for i, name in  enumerate(['car', 'motorcycle', 'bus', 'train', 'truck']):\n",
    "    catId = coco.getCatIds(catNms = [name])\n",
    "    imgIds = coco.getImgIds(catIds = catId)\n",
    "    images = coco.loadImgs(imgIds)\n",
    "    load(images, 0)\n",
    "\n",
    "categories = ['car', 'motorcycle', 'bus', 'train', 'truck']\n",
    "catId = coco.getCatIds(catNms = categories)\n",
    "\n",
    "imgIds = coco.getImgIds(catIds = catId)\n",
    "images = coco.loadImgs(imgIds)\n",
    "\n",
    "annIds = coco.getAnnIds(catIds = catId)\n",
    "annotations = coco.loadAnns(annIds)\n",
    "\n",
    "id_nums = dict(zip(catId, range(len(catId))))\n",
    "\n",
    "make_boxes(annotations, images, id_nums)   \n",
    "\n",
    "print(\"новые метки классов:\\n\", dict(zip(categories, range(len(catId)))))    "
   ]
  },
  {
   "cell_type": "code",
   "execution_count": null,
   "id": "administrative-hometown",
   "metadata": {},
   "outputs": [],
   "source": [
    "#train_val preparation\n",
    "import numpy as np\n",
    "import subprocess\n",
    "\n",
    "img_names = [t.split('/')[-1] for t in glob(\"images/COCO*\")]\n",
    "label_names = [t.split('.')[0] + \".txt\" for t in img_names]\n",
    "\n",
    "ind = np.arange(len(img_names))\n",
    "rand_ind = np.random.choice(ind, size = int(0.03 * len(ind)))\n",
    "val_img = [img_names[i] for i in rand_ind]\n",
    "val_labels = [label_names[i] for i in rand_ind]\n",
    "\n",
    "for img in val_img:\n",
    "    subprocess.run([\"mv\",'images/' +img, \"./../val/images/\" + img])\n",
    "    \n",
    "for label in val_labels:\n",
    "    subprocess.call([\"mv\",'labels/' + label, \"./../val/labels/\" + label])"
   ]
  },
  {
   "cell_type": "markdown",
   "id": "fce04c1c",
   "metadata": {},
   "source": [
    "## тренировка модели"
   ]
  },
  {
   "cell_type": "code",
   "execution_count": null,
   "id": "d6d1df04",
   "metadata": {},
   "outputs": [],
   "source": [
    "import os\n",
    "os.chdir(\"\")"
   ]
  },
  {
   "cell_type": "code",
   "execution_count": null,
   "id": "dacd7c8b",
   "metadata": {},
   "outputs": [],
   "source": [
    "# yaml файл указывающий на датасет\n",
    "dataset_path = \"путь к датасету\"\n",
    "with open(\"./object_detection/yolov7/data/car.yaml\", \"w\") as f:\n",
    "    f.write(f\"train: {dataset_path}/train\\nval: {dataset_path}/val/\\nnc: 2\\nnames: [\\\"num_palette\\\", \\\"car\\\"]\")"
   ]
  },
  {
   "cell_type": "code",
   "execution_count": 145,
   "id": "f478c00d",
   "metadata": {
    "scrolled": false
   },
   "outputs": [
    {
     "name": "stdout",
     "output_type": "stream",
     "text": [
      "/bin/bash: warning: here-document at line 0 delimited by end-of-file (wanted `3')\n",
      "^C\n",
      "Traceback (most recent call last):\n",
      "  File \"train.py\", line 24, in <module>\n",
      "    import test  # import test.py to get mAP after each epoch\n",
      "  File \"/home/latypov/YOLOv7/yolov7/test.py\", line 12, in <module>\n",
      "    from models.experimental import attempt_load\n",
      "  File \"/home/latypov/YOLOv7/yolov7/models/experimental.py\", line 6, in <module>\n",
      "    from models.common import Conv, DWConv\n",
      "  File \"/home/latypov/YOLOv7/yolov7/models/common.py\", line 17, in <module>\n",
      "    from utils.plots import color_list, plot_one_box\n",
      "  File \"/home/latypov/YOLOv7/yolov7/utils/plots.py\", line 15, in <module>\n",
      "    import seaborn as sns\n",
      "  File \"/usr/local/lib/python3.6/site-packages/seaborn/__init__.py\", line 2, in <module>\n",
      "    from .rcmod import *  # noqa: F401,F403\n",
      "  File \"/usr/local/lib/python3.6/site-packages/seaborn/rcmod.py\", line 7, in <module>\n",
      "    from . import palettes\n",
      "  File \"/usr/local/lib/python3.6/site-packages/seaborn/palettes.py\", line 9, in <module>\n",
      "    from .utils import desaturate, get_color_cycle\n",
      "  File \"/usr/local/lib/python3.6/site-packages/seaborn/utils.py\", line 10, in <module>\n",
      "    from scipy import stats\n",
      "  File \"/usr/local/lib64/python3.6/site-packages/scipy/stats/__init__.py\", line 388, in <module>\n",
      "    from .stats import *\n",
      "  File \"/usr/local/lib64/python3.6/site-packages/scipy/stats/stats.py\", line 180, in <module>\n",
      "    from . import distributions\n",
      "  File \"/usr/local/lib64/python3.6/site-packages/scipy/stats/distributions.py\", line 11, in <module>\n",
      "    from . import _continuous_distns\n",
      "  File \"/usr/local/lib64/python3.6/site-packages/scipy/stats/_continuous_distns.py\", line 6181, in <module>\n",
      "    lomax = lomax_gen(a=0.0, name=\"lomax\")\n",
      "  File \"/usr/local/lib64/python3.6/site-packages/scipy/stats/_distn_infrastructure.py\", line 1660, in __init__\n",
      "    self._construct_doc(docdict, dct.get(self.name))\n",
      "  File \"/usr/local/lib64/python3.6/site-packages/scipy/stats/_distn_infrastructure.py\", line 741, in _construct_doc\n",
      "    self.__doc__ = doccer.docformat(self.__doc__, tempdict)\n",
      "  File \"/usr/local/lib64/python3.6/site-packages/scipy/_lib/doccer.py\", line 62, in docformat\n",
      "    newlines.append(indent+line)\n",
      "KeyboardInterrupt\n"
     ]
    }
   ],
   "source": [
    "!python3 train.py --img 640 --workers 8 --batch 16 --epochs 200 --data data/car.yaml --weights yolov7.pt --cfg cfg/training/yolov7.yaml --device 2 << 3"
   ]
  }
 ],
 "metadata": {
  "kernelspec": {
   "display_name": "Python 3.8.10 64-bit",
   "language": "python",
   "name": "python3"
  },
  "language_info": {
   "codemirror_mode": {
    "name": "ipython",
    "version": 3
   },
   "file_extension": ".py",
   "mimetype": "text/x-python",
   "name": "python",
   "nbconvert_exporter": "python",
   "pygments_lexer": "ipython3",
   "version": "3.8.10"
  },
  "vscode": {
   "interpreter": {
    "hash": "916dbcbb3f70747c44a77c7bcd40155683ae19c65e1c03b4aa3499c5328201f1"
   }
  }
 },
 "nbformat": 4,
 "nbformat_minor": 5
}
