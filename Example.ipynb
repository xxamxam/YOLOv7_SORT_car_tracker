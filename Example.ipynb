{
 "cells": [
  {
   "cell_type": "code",
   "execution_count": 1,
   "id": "bound-bibliography",
   "metadata": {},
   "outputs": [
    {
     "name": "stdout",
     "output_type": "stream",
     "text": [
      "Fusing layers... \n",
      "IDetect.fuse\n",
      " Convert model to Traced-model... \n",
      " traced_script_module saved! \n",
      " model is traced! \n",
      "\n"
     ]
    }
   ],
   "source": [
    "from object_tracking import Detector, YOLOv7_track\n",
    "\n",
    "#создается детектор\n",
    "detector = Detector(classes = [0,1,2,3,4,5], use_gpu = True)\n",
    "# и к нему подгружаются веса\n",
    "detector.load_model(\"./weights/best-tiny-200.pt\")\n"
   ]
  },
  {
   "cell_type": "code",
   "execution_count": 2,
   "id": "affiliated-pressing",
   "metadata": {},
   "outputs": [],
   "source": [
    "#создаем трекер работающий на SORT и передаем ему веса\n",
    "tracker = YOLOv7_track(detector=detector, use_cuda =True)"
   ]
  },
  {
   "cell_type": "code",
   "execution_count": 3,
   "id": "broad-anthropology",
   "metadata": {},
   "outputs": [
    {
     "name": "stdout",
     "output_type": "stream",
     "text": [
      "0) normal:mp4@256x144\n",
      "1) normal:mp4@426x240\n",
      "2) normal:mp4@640x360\n",
      "3) normal:mp4@854x480\n",
      "4) normal:mp4@1280x720\n",
      "5) normal:mp4@1920x1080\n",
      "выберите номер источника:\n"
     ]
    },
    {
     "name": "stderr",
     "output_type": "stream",
     "text": [
      "/home/ilgam/.local/lib/python3.8/site-packages/torch/functional.py:478: UserWarning: torch.meshgrid: in an upcoming release, it will be required to pass the indexing argument. (Triggered internally at  ../aten/src/ATen/native/TensorShape.cpp:2895.)\n",
      "  return _VF.meshgrid(tensors, **kwargs)  # type: ignore[attr-defined]\n"
     ]
    },
    {
     "name": "stdout",
     "output_type": "stream",
     "text": [
      "1.0 вошел в кадр в 2022-09-01 22:35:46.455351. Номер кадра : 29\n",
      "2.0 вошел в кадр в 2022-09-01 22:35:47.097221. Номер кадра : 36\n",
      "1.0 вышел из кадра в 2022-09-01 22:36:03.867427. Номер кадра : 30\n",
      "2.0 вышел из кадра в 2022-09-01 22:36:03.867537. Номер кадра : 48\n",
      "3.0 вошел в кадр в 2022-09-01 22:36:03.867563. Номер кадра : 246\n",
      "5.0 вошел в кадр в 2022-09-01 22:36:09.324849. Номер кадра : 306\n",
      "3.0 вышел из кадра в 2022-09-01 22:36:12.225733. Номер кадра : 273\n",
      "tracked 715 frames in 60.10517501831055 seconds, or 11.895812357233654 fps\n"
     ]
    }
   ],
   "source": [
    "\n",
    "\n",
    "# запустим трекинг видео/ стрима из youtube\n",
    "tracker.track_video(\"https://youtu.be/C77Fddophmg\", output = None) "
   ]
  },
  {
   "cell_type": "code",
   "execution_count": null,
   "id": "literary-fiber",
   "metadata": {},
   "outputs": [],
   "source": [
    "# аналогично можно запустить  трекинг записанного видео видео передав в качестве аргумента локальный адрес видео\n",
    "# если в output указать директорию с именем файла, то там запишется видеотрекинг"
   ]
  },
  {
   "cell_type": "code",
   "execution_count": null,
   "id": "automotive-minute",
   "metadata": {},
   "outputs": [],
   "source": [
    "# чтобы добавить действия в начале или в конце детекции отредактируйте файл notify_tracker.py "
   ]
  }
 ],
 "metadata": {
  "kernelspec": {
   "display_name": "Python 3.8.10 64-bit",
   "language": "python",
   "name": "python3"
  },
  "language_info": {
   "codemirror_mode": {
    "name": "ipython",
    "version": 3
   },
   "file_extension": ".py",
   "mimetype": "text/x-python",
   "name": "python",
   "nbconvert_exporter": "python",
   "pygments_lexer": "ipython3",
   "version": "3.8.10"
  },
  "vscode": {
   "interpreter": {
    "hash": "916dbcbb3f70747c44a77c7bcd40155683ae19c65e1c03b4aa3499c5328201f1"
   }
  }
 },
 "nbformat": 4,
 "nbformat_minor": 5
}
